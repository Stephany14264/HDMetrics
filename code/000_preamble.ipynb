{
 "cells": [
  {
   "cell_type": "markdown",
   "metadata": {},
   "source": [
    "# Required Packages Installation\n",
    "\n",
    "The following stata code will uninstall any previous version prior to re-installing the user-written stata packages ```reghdfe``` and ```specurve```."
   ]
  },
  {
   "cell_type": "markdown",
   "metadata": {},
   "source": [
    "hola"
   ]
  },
  {
   "cell_type": "code",
   "execution_count": null,
   "metadata": {},
   "outputs": [],
   "source": [
    "%%capture\n",
    "import stata_setup, os\n",
    "if os.name == 'nt':\n",
    "    stata_setup.config('C:/Program F iles/Stata17/','mp')\n",
    "else:\n",
    "    stata_setup.config('/usr/local/stata17','mp')"
   ]
  },
  {
   "cell_type": "markdown",
   "metadata": {},
   "source": [
    "### reghdfe, ivreghdfe, ppmlhdfe | Models with Many Levels of Fixed Effects\n",
    "Source Code: [https://scorreia.com/software/](https://scorreia.com/software/)"
   ]
  },
  {
   "cell_type": "code",
   "execution_count": null,
   "metadata": {},
   "outputs": [],
   "source": [
    "%%stata -qui\n",
    "* Install ftools (remove program if it existed previously)\n",
    "cap ado uninstall ftools\n",
    "net install ftools, from(\"https://raw.githubusercontent.com/sergiocorreia/ftools/master/src/\")\n",
    "\n",
    "* Install reghdfe 6.x (remove program if it existed previously)\n",
    "cap ado uninstall reghdfe\n",
    "net install reghdfe, from(\"https://raw.githubusercontent.com/sergiocorreia/reghdfe/master/src/\")\n",
    "\n",
    "* Install parallel, if using the parallel() option; don't install from SSC\n",
    "cap ado uninstall parallel\n",
    "net install parallel, from(https://raw.github.com/gvegayon/parallel/stable/) replace\n",
    "mata mata mlib index\n",
    "\n",
    "* Install ivreghdfe (remove program if it existed previously)\n",
    "cap ado uninstall ivreghdfe\n",
    "cap ssc install ivreg2 // Install ivreg2, the core package\n",
    "net install ivreghdfe, from(https://raw.githubusercontent.com/sergiocorreia/ivreghdfe/master/src/)\n",
    "\n",
    "* Install ppmlhdfe\n",
    "cap ado uninstall ppmlhdfe\n",
    "net install ppmlhdfe, from(\"https://raw.githubusercontent.com/sergiocorreia/ppmlhdfe/master/src/\")"
   ]
  },
  {
   "cell_type": "markdown",
   "metadata": {},
   "source": [
    "### specurve | Specification Curve Analysis\n",
    "Source Code: [https://github.com/mgao6767/specurve](https://github.com/mgao6767/specurve)"
   ]
  },
  {
   "cell_type": "code",
   "execution_count": null,
   "metadata": {},
   "outputs": [],
   "source": [
    "%%stata -qui\n",
    "* Install specurve\n",
    "net install specurve, from(\"https://raw.githubusercontent.com/mgao6767/specurve/master\") replace"
   ]
  },
  {
   "cell_type": "markdown",
   "metadata": {},
   "source": [
    "### loocv | Leave-One-Out Regression I\n",
    "Source Code: [http://fmwww.bc.edu/repec/bocode/l/loocv.ado](http://fmwww.bc.edu/repec/bocode/l/loocv.ado)"
   ]
  },
  {
   "cell_type": "code",
   "execution_count": null,
   "metadata": {},
   "outputs": [],
   "source": [
    "%%stata -qui\n",
    "ssc install loocv"
   ]
  },
  {
   "cell_type": "markdown",
   "metadata": {},
   "source": [
    "### cv_regress | Leave-One-Out Regression II\n",
    "Source Code: [https://github.com/friosavila/stpackages/tree/main/cv_regress](https://github.com/friosavila/stpackages/tree/main/cv_regress)"
   ]
  },
  {
   "cell_type": "code",
   "execution_count": null,
   "metadata": {},
   "outputs": [],
   "source": [
    "%%stata -qui\n",
    "ssc install cv_regress"
   ]
  },
  {
   "cell_type": "markdown",
   "metadata": {},
   "source": [
    "### crossfold | _k_-Fold Cross-Validation\n",
    "Source Code: [https://ideas.repec.org/c/boc/bocode/s457426.html](https://ideas.repec.org/c/boc/bocode/s457426.html)"
   ]
  },
  {
   "cell_type": "code",
   "execution_count": null,
   "metadata": {},
   "outputs": [],
   "source": [
    "%%stata -qui\n",
    "ssc install crossfold"
   ]
  },
  {
   "cell_type": "markdown",
   "metadata": {},
   "source": [
    "### Stata Schemepack\n",
    "Source Code: [https://github.com/asjadnaqvi/stata-schemepack](https://github.com/asjadnaqvi/stata-schemepack)"
   ]
  },
  {
   "cell_type": "code",
   "execution_count": null,
   "metadata": {},
   "outputs": [],
   "source": [
    "%%stata -qui\n",
    "net install schemepack, from(\"https://raw.githubusercontent.com/asjadnaqvi/stata-schemepack/main/installation/\") replace"
   ]
  },
  {
   "cell_type": "markdown",
   "metadata": {},
   "source": [
    "## estout | Making Regression Tables in Stata\n",
    "Source Code: [https://github.com/benjann/estout](https://github.com/benjann/estout)"
   ]
  },
  {
   "cell_type": "code",
   "execution_count": null,
   "metadata": {},
   "outputs": [],
   "source": [
    "%%stata -qui\n",
    "net install estout, from(https://raw.githubusercontent.com/benjann/estout/master/) replace"
   ]
  },
  {
   "cell_type": "markdown",
   "metadata": {},
   "source": [
    "# Data\n",
    "\n",
    "||   |\n",
    "|-|-|\n",
    "|<img src=\"../figures/cover.png\" width=\"140\">| Rodriguez, Belicia, Kim P. Huynh,<br> David Tomás Jacho-Chávez, and<br> Leonardo Sánchez-Aragón, (2024),<br> \"<em>Abstract Readability: Evidence from Top-5 Economics Journals</em>,\"<br> <strong>Economics Letters</strong>, 111541.<br> - [Manuscript](../paper/Rodriguez_et_al_econ_letters_2024.pdf)<br> - [Supplemental Materials](../paper/Rodriguez_et_al_2024_supp_material.pdf)<br>- [GitHub Repository](https://github.com/lfsanche/econ_letters)|\n",
    "\n",
    "\n",
    "\n",
    "\n",
    "\n"
   ]
  },
  {
   "cell_type": "code",
   "execution_count": null,
   "metadata": {},
   "outputs": [],
   "source": [
    "import pandas as pd\n",
    "pd.set_option('display.max_rows', None)\n",
    "pd.set_option('display.max_colwidth', 150)\n",
    "import pyreadstat\n",
    "\n",
    "# Load the Stata dataset\n",
    "datos, meta = pyreadstat.read_dta(\"../data/data.dta\")\n",
    "*Para el examen tienes que copiarlo a code\n",
    "\n",
    "# Create a DataFrame from the variable names and labels\n",
    "var_labels = pd.DataFrame({\n",
    "    \"Variable Name\": meta.column_names,\n",
    "    \"Variable Label\": meta.column_labels\n",
    "})\n",
    "\n",
    "# Print the DataFrame\n",
    "var_labels"
   ]
  },
  {
   "cell_type": "markdown",
   "metadata": {},
   "source": [
    "## Flesch Reading Ease"
   ]
  },
  {
   "cell_type": "markdown",
   "metadata": {},
   "source": [
    "These readability tests are used extensively in the field of education. The \"Flesch–Kincaid Grade Level Formula\" presents a score as a U.S. grade level, making it easier for teachers, parents, librarians, and others to judge the readability level of various books and texts. It can also mean the number of years of education generally required to understand this text, relevant when the formula results in a number greater than 10. The grade level is calculated with the following formula:\n",
    "\n",
    "$$\n",
    "0.39\\left(\\frac{\\text { total words }}{\\text { total sentences }}\\right)+11.8\\left(\\frac{\\text { total syllables }}{\\text { total words }}\\right)-15.59\n",
    "$$\n",
    "\n",
    "The result is a number that corresponds with a U.S. grade level.\n",
    "\n",
    "* The lowest grade level score in theory is −3.40.\n",
    "* Due to the formula's construction, the score does not have an upper bound.\n",
    "\n",
    "\n",
    "\n",
    "Source: [https://en.wikipedia.org/wiki/Flesch-Kincaid_readability_tests](https://en.wikipedia.org/wiki/Flesch-Kincaid_readability_tests)"
   ]
  },
  {
   "cell_type": "code",
   "execution_count": null,
   "metadata": {},
   "outputs": [],
   "source": [
    "# Define the list of variables (columns) to include\n",
    "columns_of_interest = [\n",
    "    \"log_flesch_kincaid_grade_level\", \"log_num_authors\", \"log_num_pages\",\n",
    "    \"both_genders\", \"prop_women\", \"journal\", \"jelcodes\", \"year\", \"cluster\", \"jel_flag\"\n",
    "]\n",
    "\n",
    "# Check if all the columns exist in the DataFrame\n",
    "missing_columns = [col for col in columns_of_interest if col not in datos.columns]\n",
    "if missing_columns:\n",
    "    print(f\"The following columns are missing from the DataFrame: {missing_columns}\")\n",
    "else:\n",
    "    # Select the specified columns and sample 5 random rows\n",
    "    random_rows = datos[columns_of_interest].sample(n=5, random_state=542)\n",
    "\n",
    "    # Print the result\n",
    "    print(random_rows)"
   ]
  }
 ],
 "metadata": {
  "kernelspec": {
   "display_name": "Python 3 (ipykernel)",
   "language": "python",
   "name": "python3"
  },
  "language_info": {
   "codemirror_mode": {
    "name": "ipython",
    "version": 3
   },
   "file_extension": ".py",
   "mimetype": "text/x-python",
   "name": "python",
   "nbconvert_exporter": "python",
   "pygments_lexer": "ipython3",
   "version": "3.11.0"
  }
 },
 "nbformat": 4,
 "nbformat_minor": 4
}
