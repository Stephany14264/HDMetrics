{
 "cells": [
  {
   "cell_type": "code",
   "execution_count": 1,
   "metadata": {},
   "outputs": [],
   "source": [
    "%%capture\n",
    "import stata_setup, os\n",
    "if os.name == 'nt':\n",
    "    stata_setup.config('C:/Program Files/Stata17/','mp')\n",
    "else:\n",
    "    stata_setup.config('/usr/local/stata17','mp')"
   ]
  },
  {
   "cell_type": "code",
   "execution_count": 2,
   "metadata": {},
   "outputs": [
    {
     "name": "stdout",
     "output_type": "stream",
     "text": [
      "\n"
     ]
    }
   ],
   "source": [
    "%%stata -qui\n",
    "\n",
    "use \"../data/data\", clear\n",
    "rename log_flesch_kincaid_grade_level FKG\n",
    "quietly tabulate year, generate(y_)\n",
    "quietly tabulate cluster, generate(c_)\n",
    "\n",
    "local journals  ecm jpe qje res  //AER based category\n",
    "\n",
    "local jel_imp a_imp b_imp c_imp  e_imp f_imp g_imp h_imp i_imp j_imp k_imp /// \n",
    "\t\tl_imp m_imp n_imp o_imp p_imp q_imp r_imp y_imp z_imp // D JEL based case"
   ]
  },
  {
   "cell_type": "markdown",
   "metadata": {
    "tags": []
   },
   "source": [
    "## Poisson Regression"
   ]
  },
  {
   "cell_type": "markdown",
   "metadata": {},
   "source": [
    "We are interested in modelling the number of sentences in an abstract in excess of 3 (5\\% of articles have at most 3 sentences), i.e., our model is\n",
    "$$\n",
    "\\mathbb{E}[\\texttt{Excess Sentences}|\\texttt{log(Number authors)},\\texttt{log(Number pages)},\\texttt{Both genders},\\texttt{Proportion women}]\\\\\\\n",
    "= \\exp{\\left(\\beta_1\\log(\\text{Number authors})+\\beta_2\\log(\\text{Number pages})+\\beta_3\\texttt{Both genders}+\\theta\\texttt{Proportion women}\\right.}\\\\\\\n",
    "\\left.+\\texttt{Journals}+\\texttt{JEL codes}+\\texttt{Cluster}+\\texttt{Years}+\\texttt{JEL flag}+\\beta_{272}\\right)\n",
    "$$"
   ]
  },
  {
   "cell_type": "code",
   "execution_count": 3,
   "metadata": {
    "jupyter": {
     "source_hidden": true
    }
   },
   "outputs": [
    {
     "name": "stdout",
     "output_type": "stream",
     "text": [
      "\n"
     ]
    }
   ],
   "source": [
    "%%stata -qui\n",
    "summarize num_sentences, detail\n",
    "local cutoff_sentences = r(p5)\n",
    "gen int excess_sentences = num_sentences - `cutoff_sentences'\n",
    "replace excess_sentences = 0 if excess_sentences < 0"
   ]
  },
  {
   "cell_type": "code",
   "execution_count": 4,
   "metadata": {
    "jupyter": {
     "source_hidden": true
    }
   },
   "outputs": [
    {
     "name": "stdout",
     "output_type": "stream",
     "text": [
      "\n",
      ". set scheme gg_jet\n",
      "\n",
      ". histogram excess_sentences, discrete freq width(1) xtitle(\"Number of Sentence\n",
      "> s in Excess of 3\")\n",
      "(start=0, width=1)\n",
      "\n",
      ". \n"
     ]
    },
    {
     "data": {
      "image/svg+xml": [
       "<svg xmlns=\"http://www.w3.org/2000/svg\" xmlns:xlink=\"http://www.w3.org/1999/xlink\" version=\"1.1\" width=\"6.000in\" height=\"4.000in\" viewBox=\"0 0 4320 2880\">\n",
       "\t<desc>Stata Graph - Graph</desc>\n",
       "\t<rect x=\"0\" y=\"0\" width=\"4320\" height=\"2880\" style=\"fill:#FFFFFF;stroke:none\"/>\n",
       "\t<rect x=\"0.00\" y=\"0.00\" width=\"4320.00\" height=\"2880.00\" style=\"fill:#FFFFFF\"/>\n",
       "\t<rect x=\"2.88\" y=\"2.88\" width=\"4314.24\" height=\"2874.24\" style=\"fill:none;stroke:#FFFFFF;stroke-width:5.76\"/>\n",
       "\t<rect x=\"545.67\" y=\"100.85\" width=\"3673.48\" height=\"2359.30\" style=\"fill:#E0E0E0\"/>\n",
       "\t<rect x=\"548.55\" y=\"103.73\" width=\"3667.73\" height=\"2353.54\" style=\"fill:none;stroke:#FFFFFF;stroke-opacity:0.00;stroke-width:5.76\"/>\n",
       "\t<line x1=\"545.67\" y1=\"2460.14\" x2=\"4219.16\" y2=\"2460.14\" style=\"stroke:#FFFFFF;stroke-width:8.64\"/>\n",
       "\t<line x1=\"545.67\" y1=\"1694.82\" x2=\"4219.16\" y2=\"1694.82\" style=\"stroke:#FFFFFF;stroke-width:8.64\"/>\n",
       "\t<line x1=\"545.67\" y1=\"929.49\" x2=\"4219.16\" y2=\"929.49\" style=\"stroke:#FFFFFF;stroke-width:8.64\"/>\n",
       "\t<line x1=\"545.67\" y1=\"164.16\" x2=\"4219.16\" y2=\"164.16\" style=\"stroke:#FFFFFF;stroke-width:8.64\"/>\n",
       "\t<line x1=\"766.67\" y1=\"2460.14\" x2=\"766.67\" y2=\"100.85\" style=\"stroke:#FFFFFF;stroke-width:8.64\"/>\n",
       "\t<line x1=\"1554.80\" y1=\"2460.14\" x2=\"1554.80\" y2=\"100.85\" style=\"stroke:#FFFFFF;stroke-width:8.64\"/>\n",
       "\t<line x1=\"2342.93\" y1=\"2460.14\" x2=\"2342.93\" y2=\"100.85\" style=\"stroke:#FFFFFF;stroke-width:8.64\"/>\n",
       "\t<line x1=\"3131.19\" y1=\"2460.14\" x2=\"3131.19\" y2=\"100.85\" style=\"stroke:#FFFFFF;stroke-width:8.64\"/>\n",
       "\t<line x1=\"3919.32\" y1=\"2460.14\" x2=\"3919.32\" y2=\"100.85\" style=\"stroke:#FFFFFF;stroke-width:8.64\"/>\n",
       "\t<rect x=\"687.83\" y=\"1733.02\" width=\"157.54\" height=\"727.12\" style=\"fill:#333399\"/>\n",
       "\t<rect x=\"689.98\" y=\"1735.18\" width=\"153.23\" height=\"722.80\" style=\"fill:none;stroke:#000000;stroke-width:4.32\"/>\n",
       "\t<rect x=\"845.37\" y=\"813.12\" width=\"157.68\" height=\"1647.03\" style=\"fill:#333399\"/>\n",
       "\t<rect x=\"847.53\" y=\"815.28\" width=\"153.36\" height=\"1642.71\" style=\"fill:none;stroke:#000000;stroke-width:4.32\"/>\n",
       "\t<rect x=\"1003.05\" y=\"459.55\" width=\"157.68\" height=\"2000.60\" style=\"fill:#333399\"/>\n",
       "\t<rect x=\"1005.21\" y=\"461.71\" width=\"153.36\" height=\"1996.28\" style=\"fill:none;stroke:#000000;stroke-width:4.32\"/>\n",
       "\t<rect x=\"1160.73\" y=\"1013.73\" width=\"157.68\" height=\"1446.41\" style=\"fill:#333399\"/>\n",
       "\t<rect x=\"1162.89\" y=\"1015.89\" width=\"153.36\" height=\"1442.09\" style=\"fill:none;stroke:#000000;stroke-width:4.32\"/>\n",
       "\t<rect x=\"1318.41\" y=\"1603.02\" width=\"157.54\" height=\"857.13\" style=\"fill:#333399\"/>\n",
       "\t<rect x=\"1320.57\" y=\"1605.18\" width=\"153.23\" height=\"852.81\" style=\"fill:none;stroke:#000000;stroke-width:4.32\"/>\n",
       "\t<rect x=\"1475.96\" y=\"1958.07\" width=\"157.68\" height=\"502.07\" style=\"fill:#333399\"/>\n",
       "\t<rect x=\"1478.11\" y=\"1960.23\" width=\"153.36\" height=\"497.75\" style=\"fill:none;stroke:#000000;stroke-width:4.32\"/>\n",
       "\t<rect x=\"1633.64\" y=\"2248.87\" width=\"157.68\" height=\"211.28\" style=\"fill:#333399\"/>\n",
       "\t<rect x=\"1635.79\" y=\"2251.03\" width=\"153.36\" height=\"206.96\" style=\"fill:none;stroke:#000000;stroke-width:4.32\"/>\n",
       "\t<rect x=\"1791.32\" y=\"2351.47\" width=\"157.54\" height=\"108.68\" style=\"fill:#333399\"/>\n",
       "\t<rect x=\"1793.47\" y=\"2353.63\" width=\"153.23\" height=\"104.36\" style=\"fill:none;stroke:#000000;stroke-width:4.32\"/>\n",
       "\t<rect x=\"1948.86\" y=\"2406.55\" width=\"157.68\" height=\"53.60\" style=\"fill:#333399\"/>\n",
       "\t<rect x=\"1951.02\" y=\"2408.71\" width=\"153.36\" height=\"49.28\" style=\"fill:none;stroke:#000000;stroke-width:4.32\"/>\n",
       "\t<rect x=\"2106.54\" y=\"2417.21\" width=\"157.68\" height=\"42.93\" style=\"fill:#333399\"/>\n",
       "\t<rect x=\"2108.70\" y=\"2419.37\" width=\"153.36\" height=\"38.61\" style=\"fill:none;stroke:#000000;stroke-width:4.32\"/>\n",
       "\t<rect x=\"2264.22\" y=\"2443.27\" width=\"157.55\" height=\"16.88\" style=\"fill:#333399\"/>\n",
       "\t<rect x=\"2266.38\" y=\"2445.43\" width=\"153.23\" height=\"12.56\" style=\"fill:none;stroke:#000000;stroke-width:4.32\"/>\n",
       "\t<rect x=\"2421.77\" y=\"2452.45\" width=\"157.68\" height=\"7.70\" style=\"fill:#333399\"/>\n",
       "\t<rect x=\"2423.92\" y=\"2454.61\" width=\"153.36\" height=\"3.38\" style=\"fill:none;stroke:#000000;stroke-width:4.32\"/>\n",
       "\t<rect x=\"2579.45\" y=\"2457.04\" width=\"157.68\" height=\"3.11\" style=\"fill:#333399\"/>\n",
       "\t<rect x=\"2581.60\" y=\"2457.98\" width=\"153.36\" height=\"1.21\" style=\"fill:none;stroke:#000000;stroke-width:4.32\"/>\n",
       "\t<rect x=\"2737.13\" y=\"2458.66\" width=\"157.55\" height=\"1.49\" style=\"fill:#333399\"/>\n",
       "\t<rect x=\"2739.28\" y=\"2457.98\" width=\"153.23\" height=\"2.83\" style=\"fill:none;stroke:#000000;stroke-width:4.32\"/>\n",
       "\t<rect x=\"2894.67\" y=\"2458.66\" width=\"157.68\" height=\"1.49\" style=\"fill:#333399\"/>\n",
       "\t<rect x=\"2896.83\" y=\"2457.98\" width=\"153.36\" height=\"2.83\" style=\"fill:none;stroke:#000000;stroke-width:4.32\"/>\n",
       "\t<rect x=\"3052.35\" y=\"2457.04\" width=\"157.68\" height=\"3.11\" style=\"fill:#333399\"/>\n",
       "\t<rect x=\"3054.51\" y=\"2457.98\" width=\"153.36\" height=\"1.21\" style=\"fill:none;stroke:#000000;stroke-width:4.32\"/>\n",
       "\t<rect x=\"3210.03\" y=\"2458.66\" width=\"157.54\" height=\"1.49\" style=\"fill:#333399\"/>\n",
       "\t<rect x=\"3212.19\" y=\"2457.98\" width=\"153.23\" height=\"2.83\" style=\"fill:none;stroke:#000000;stroke-width:4.32\"/>\n",
       "\t<rect x=\"3525.26\" y=\"2458.66\" width=\"157.68\" height=\"1.49\" style=\"fill:#333399\"/>\n",
       "\t<rect x=\"3527.41\" y=\"2457.98\" width=\"153.36\" height=\"2.83\" style=\"fill:none;stroke:#000000;stroke-width:4.32\"/>\n",
       "\t<rect x=\"3998.16\" y=\"2458.66\" width=\"157.68\" height=\"1.49\" style=\"fill:#333399\"/>\n",
       "\t<rect x=\"4000.32\" y=\"2457.98\" width=\"153.36\" height=\"2.83\" style=\"fill:none;stroke:#000000;stroke-width:4.32\"/>\n",
       "\t<line x1=\"545.67\" y1=\"2460.14\" x2=\"505.58\" y2=\"2460.14\" style=\"stroke:#404040;stroke-width:8.64\"/>\n",
       "\t<text x=\"485.60\" y=\"2488.15\" style=\"font-family:'Helvetica';font-size:79.92px;fill:#000000\" text-anchor=\"end\">0</text>\n",
       "\t<line x1=\"545.67\" y1=\"1694.82\" x2=\"505.58\" y2=\"1694.82\" style=\"stroke:#404040;stroke-width:8.64\"/>\n",
       "\t<text x=\"485.60\" y=\"1722.82\" style=\"font-family:'Helvetica';font-size:79.92px;fill:#000000\" text-anchor=\"end\">500</text>\n",
       "\t<line x1=\"545.67\" y1=\"929.49\" x2=\"505.58\" y2=\"929.49\" style=\"stroke:#404040;stroke-width:8.64\"/>\n",
       "\t<text x=\"485.60\" y=\"957.50\" style=\"font-family:'Helvetica';font-size:79.92px;fill:#000000\" text-anchor=\"end\">1000</text>\n",
       "\t<line x1=\"545.67\" y1=\"164.16\" x2=\"505.58\" y2=\"164.16\" style=\"stroke:#404040;stroke-width:8.64\"/>\n",
       "\t<text x=\"485.60\" y=\"192.17\" style=\"font-family:'Helvetica';font-size:79.92px;fill:#000000\" text-anchor=\"end\">1500</text>\n",
       "\t<text x=\"211.26\" y=\"1280.50\" style=\"font-family:'Helvetica';font-size:79.92px;fill:#000000\" transform=\"rotate(-90 211.26,1280.50)\" text-anchor=\"middle\">Frequency</text>\n",
       "\t<line x1=\"766.67\" y1=\"2460.14\" x2=\"766.67\" y2=\"2500.10\" style=\"stroke:#404040;stroke-width:8.64\"/>\n",
       "\t<text x=\"766.67\" y=\"2575.96\" style=\"font-family:'Helvetica';font-size:79.92px;fill:#000000\" text-anchor=\"middle\">0</text>\n",
       "\t<line x1=\"1554.80\" y1=\"2460.14\" x2=\"1554.80\" y2=\"2500.10\" style=\"stroke:#404040;stroke-width:8.64\"/>\n",
       "\t<text x=\"1554.80\" y=\"2575.96\" style=\"font-family:'Helvetica';font-size:79.92px;fill:#000000\" text-anchor=\"middle\">5</text>\n",
       "\t<line x1=\"2342.93\" y1=\"2460.14\" x2=\"2342.93\" y2=\"2500.10\" style=\"stroke:#404040;stroke-width:8.64\"/>\n",
       "\t<text x=\"2342.93\" y=\"2575.96\" style=\"font-family:'Helvetica';font-size:79.92px;fill:#000000\" text-anchor=\"middle\">10</text>\n",
       "\t<line x1=\"3131.19\" y1=\"2460.14\" x2=\"3131.19\" y2=\"2500.10\" style=\"stroke:#404040;stroke-width:8.64\"/>\n",
       "\t<text x=\"3131.19\" y=\"2575.96\" style=\"font-family:'Helvetica';font-size:79.92px;fill:#000000\" text-anchor=\"middle\">15</text>\n",
       "\t<line x1=\"3919.32\" y1=\"2460.14\" x2=\"3919.32\" y2=\"2500.10\" style=\"stroke:#404040;stroke-width:8.64\"/>\n",
       "\t<text x=\"3919.32\" y=\"2575.96\" style=\"font-family:'Helvetica';font-size:79.92px;fill:#000000\" text-anchor=\"middle\">20</text>\n",
       "\t<text x=\"2382.34\" y=\"2700.57\" style=\"font-family:'Helvetica';font-size:79.92px;fill:#000000\" text-anchor=\"middle\">Number of Sentences in Excess of 3</text>\n",
       "</svg>"
      ],
      "text/plain": [
       "<IPython.core.display.SVG object>"
      ]
     },
     "metadata": {},
     "output_type": "display_data"
    }
   ],
   "source": [
    "%%stata\n",
    "set scheme gg_jet\n",
    "histogram excess_sentences, discrete freq width(1) xtitle(\"Number of Sentences in Excess of 3\")"
   ]
  },
  {
   "cell_type": "code",
   "execution_count": 5,
   "metadata": {},
   "outputs": [
    {
     "name": "stdout",
     "output_type": "stream",
     "text": [
      "\n"
     ]
    }
   ],
   "source": [
    "%%stata -qui\n",
    "#delimit ;\n",
    "poisson excess_sentences log_num_authors log_num_pages both_genders prop_women\n",
    "\t\t\t          `journals' `jel_imp' y_2-y_20  c_2-c_215  jel_flag, vce(cluster cluster);\n",
    "#delimit cr"
   ]
  },
  {
   "cell_type": "code",
   "execution_count": 6,
   "metadata": {},
   "outputs": [
    {
     "name": "stdout",
     "output_type": "stream",
     "text": [
      "\n",
      "-----------------------------------------------------------------\n",
      "                                          Variable |   Active    \n",
      "---------------------------------------------------+-------------\n",
      "                Logarithm of the number of authors | -0.0118     \n",
      "                  Logarithm of the number of pages |  0.4093***  \n",
      "    Indicator if author team includes both genders |  0.0004     \n",
      "             Proportion of women among the authors |  0.0416*    \n",
      "Indicator of whether the article includes a JEL cl |  0.0349*    \n",
      "-----------------------------------------------------------------\n",
      "                         Legend: * p<0.05; ** p<0.01; *** p<0.001\n"
     ]
    }
   ],
   "source": [
    "%%stata\n",
    "estimates table, keep(log_num_authors log_num_pages both_genders prop_women jel_flag) b(%5.4f) star varwidth(50) varlabel"
   ]
  },
  {
   "cell_type": "code",
   "execution_count": 7,
   "metadata": {},
   "outputs": [
    {
     "name": "stdout",
     "output_type": "stream",
     "text": [
      "\n",
      "       _nl_1: _b[log_num_pages]\n",
      "       _nl_2: 100*_b[prop_women]\n",
      "       _nl_3: 100*(exp(_b[jel_flag])-1)\n",
      "\n",
      "------------------------------------------------------------------------------\n",
      "excess_sen~s | Coefficient  Std. err.      z    P>|z|     [95% conf. interval]\n",
      "-------------+----------------------------------------------------------------\n",
      "       _nl_1 |   .4093298   .0162724    25.15   0.000     .3774364    .4412231\n",
      "       _nl_2 |   4.157834   2.077484     2.00   0.045     .0860391    8.229628\n",
      "       _nl_3 |    3.54721   1.444164     2.46   0.014     .7166994     6.37772\n",
      "------------------------------------------------------------------------------\n"
     ]
    }
   ],
   "source": [
    "%%stata\n",
    "nlcom (_b[log_num_pages]) (100*_b[prop_women]) (100*(exp(_b[jel_flag])-1))"
   ]
  },
  {
   "cell_type": "markdown",
   "metadata": {},
   "source": [
    "Other factors equal:\n",
    "* The _elasticity_ of the expected number of sentences in excess of 3 for an article's abstract with respect to the article's number of pages is 0.41.\n",
    "* If an article's authors are all women (```prop_women``` goes from 0 to 1), the abstract's expected number of sentences in excess of 3 increase by 4.16\\%.\n",
    "* The expected number of sentences in excess of 3 for an article's abstract is roughly 3.55\\% higher when the JEL is imputed ceteris paribus."
   ]
  },
  {
   "cell_type": "markdown",
   "metadata": {
    "tags": []
   },
   "source": [
    "## High-Dimensional Fixed Effects"
   ]
  },
  {
   "cell_type": "code",
   "execution_count": 8,
   "metadata": {},
   "outputs": [
    {
     "name": "stdout",
     "output_type": "stream",
     "text": [
      "\n"
     ]
    }
   ],
   "source": [
    "%%stata -qui\n",
    "egen journal1 = group(journal)\n",
    "#delimit ;\n",
    "ppmlhdfe excess_sentences log_num_authors log_num_pages both_genders prop_women,\n",
    "                          absorb(journal1 a_imp b_imp c_imp  e_imp f_imp g_imp h_imp\n",
    "                                i_imp j_imp k_imp l_imp m_imp n_imp o_imp p_imp q_imp r_imp y_imp z_imp\n",
    "                                year ib0.cluster jel_flag) vce(cluster cluster);\n",
    "#delimit cr"
   ]
  },
  {
   "cell_type": "code",
   "execution_count": 9,
   "metadata": {},
   "outputs": [
    {
     "name": "stdout",
     "output_type": "stream",
     "text": [
      "\n",
      ". #delimit ;\n",
      "delimiter now ;\n",
      ". estimates table, keep(log_num_authors log_num_pages both_genders prop_women)\n",
      ">                  b(%5.4f) star varwidth(50) varlabel;\n",
      "\n",
      "-----------------------------------------------------------------\n",
      "                                          Variable |   Active    \n",
      "---------------------------------------------------+-------------\n",
      "                Logarithm of the number of authors | -0.0118     \n",
      "                  Logarithm of the number of pages |  0.4093***  \n",
      "    Indicator if author team includes both genders |  0.0004     \n",
      "             Proportion of women among the authors |  0.0416*    \n",
      "-----------------------------------------------------------------\n",
      "                         Legend: * p<0.05; ** p<0.01; *** p<0.001\n",
      "\n",
      ". #delimit cr\n",
      "delimiter now cr\n",
      ". \n"
     ]
    }
   ],
   "source": [
    "%%stata\n",
    "#delimit ;\n",
    "estimates table, keep(log_num_authors log_num_pages both_genders prop_women)\n",
    "                 b(%5.4f) star varwidth(50) varlabel;\n",
    "#delimit cr"
   ]
  },
  {
   "cell_type": "markdown",
   "metadata": {
    "tags": []
   },
   "source": [
    "## Specification Curve Analysis"
   ]
  },
  {
   "cell_type": "markdown",
   "metadata": {},
   "source": [
    "Clearing the data set in memory, reloading, and creating the ```journal1``` variable"
   ]
  },
  {
   "cell_type": "code",
   "execution_count": 10,
   "metadata": {},
   "outputs": [
    {
     "name": "stdout",
     "output_type": "stream",
     "text": [
      "\n"
     ]
    }
   ],
   "source": [
    "%%stata -qui\n",
    "\n",
    "clear all\n",
    "use \"../data/data\", clear\n",
    "egen journal1 = group(journal)\n",
    "\n",
    "summarize num_sentences, detail\n",
    "local cutoff_sentences = r(p5)\n",
    "gen int excess_sentences = num_sentences - `cutoff_sentences'\n",
    "replace excess_sentences = 0 if excess_sentences < 0"
   ]
  },
  {
   "cell_type": "markdown",
   "metadata": {},
   "source": [
    "Commenting out the ```- log(F-K grade): log_flesch_kincaid_grade_level``` line in the ```.yml``` file."
   ]
  },
  {
   "cell_type": "code",
   "execution_count": 11,
   "metadata": {},
   "outputs": [
    {
     "ename": "FileNotFoundError",
     "evalue": "[Errno 2] No such file or directory: '../code/readability_graph_specurve.yml'",
     "output_type": "error",
     "traceback": [
      "\u001b[0;31m---------------------------------------------------------------------------\u001b[0m",
      "\u001b[0;31mFileNotFoundError\u001b[0m                         Traceback (most recent call last)",
      "Cell \u001b[0;32mIn[11], line 7\u001b[0m\n\u001b[1;32m      4\u001b[0m file_path \u001b[38;5;241m=\u001b[39m \u001b[38;5;124m'\u001b[39m\u001b[38;5;124m../code/readability_graph_specurve.yml\u001b[39m\u001b[38;5;124m'\u001b[39m\n\u001b[1;32m      6\u001b[0m \u001b[38;5;66;03m# Read, modify, and save the file\u001b[39;00m\n\u001b[0;32m----> 7\u001b[0m \u001b[38;5;28;01mwith\u001b[39;00m \u001b[38;5;28mopen\u001b[39m(file_path, \u001b[38;5;124m'\u001b[39m\u001b[38;5;124mr\u001b[39m\u001b[38;5;124m'\u001b[39m) \u001b[38;5;28;01mas\u001b[39;00m file:\n\u001b[1;32m      8\u001b[0m     lines \u001b[38;5;241m=\u001b[39m file\u001b[38;5;241m.\u001b[39mreadlines()\n\u001b[1;32m     10\u001b[0m \u001b[38;5;66;03m# Modify the target line\u001b[39;00m\n",
      "File \u001b[0;32m/usr/anaconda3/lib/python3.11/site-packages/IPython/core/interactiveshell.py:324\u001b[0m, in \u001b[0;36m_modified_open\u001b[0;34m(file, *args, **kwargs)\u001b[0m\n\u001b[1;32m    317\u001b[0m \u001b[38;5;28;01mif\u001b[39;00m file \u001b[38;5;129;01min\u001b[39;00m {\u001b[38;5;241m0\u001b[39m, \u001b[38;5;241m1\u001b[39m, \u001b[38;5;241m2\u001b[39m}:\n\u001b[1;32m    318\u001b[0m     \u001b[38;5;28;01mraise\u001b[39;00m \u001b[38;5;167;01mValueError\u001b[39;00m(\n\u001b[1;32m    319\u001b[0m         \u001b[38;5;124mf\u001b[39m\u001b[38;5;124m\"\u001b[39m\u001b[38;5;124mIPython won\u001b[39m\u001b[38;5;124m'\u001b[39m\u001b[38;5;124mt let you open fd=\u001b[39m\u001b[38;5;132;01m{\u001b[39;00mfile\u001b[38;5;132;01m}\u001b[39;00m\u001b[38;5;124m by default \u001b[39m\u001b[38;5;124m\"\u001b[39m\n\u001b[1;32m    320\u001b[0m         \u001b[38;5;124m\"\u001b[39m\u001b[38;5;124mas it is likely to crash IPython. If you know what you are doing, \u001b[39m\u001b[38;5;124m\"\u001b[39m\n\u001b[1;32m    321\u001b[0m         \u001b[38;5;124m\"\u001b[39m\u001b[38;5;124myou can use builtins\u001b[39m\u001b[38;5;124m'\u001b[39m\u001b[38;5;124m open.\u001b[39m\u001b[38;5;124m\"\u001b[39m\n\u001b[1;32m    322\u001b[0m     )\n\u001b[0;32m--> 324\u001b[0m \u001b[38;5;28;01mreturn\u001b[39;00m io_open(file, \u001b[38;5;241m*\u001b[39margs, \u001b[38;5;241m*\u001b[39m\u001b[38;5;241m*\u001b[39mkwargs)\n",
      "\u001b[0;31mFileNotFoundError\u001b[0m: [Errno 2] No such file or directory: '../code/readability_graph_specurve.yml'"
     ]
    }
   ],
   "source": [
    "import yaml\n",
    "\n",
    "# File name\n",
    "file_path = '../code/readability_graph_specurve.yml'\n",
    "\n",
    "# Read, modify, and save the file\n",
    "with open(file_path, 'r') as file:\n",
    "    lines = file.readlines()\n",
    "\n",
    "# Modify the target line\n",
    "modified_lines = []\n",
    "for line in lines:\n",
    "    if line.strip() == \"- log(F-K grade): log_flesch_kincaid_grade_level\":\n",
    "        modified_lines.append(f\"#     {line}\")  # Comment out the line\n",
    "    else:\n",
    "        modified_lines.append(line)\n",
    "\n",
    "# Write the modified content back to the file\n",
    "with open(file_path, 'w') as file:\n",
    "    file.writelines(modified_lines)\n",
    "\n",
    "print(\"Line commented successfully!\")"
   ]
  },
  {
   "cell_type": "code",
   "execution_count": null,
   "metadata": {},
   "outputs": [],
   "source": [
    "# File name\n",
    "file_path = '../code/readability_graph_specurve.yml'\n",
    "\n",
    "# Read, modify, and save the file\n",
    "with open(file_path, 'r') as file:\n",
    "    lines = file.readlines()\n",
    "\n",
    "# Modify the target line\n",
    "modified_lines = []\n",
    "for line in lines:\n",
    "    stripped_line = line.strip()\n",
    "    if stripped_line.startswith(\"#     - Excess Sentences: excess_sentences\"):\n",
    "        # Uncomment the line\n",
    "        modified_lines.append(line.replace(\"#     -\", \"-\"))  # Replace `#-` with `-`\n",
    "    else:\n",
    "        modified_lines.append(line)\n",
    "\n",
    "# Write the modified content back to the file\n",
    "with open(file_path, 'w') as file:\n",
    "    file.writelines(modified_lines)\n",
    "\n",
    "print(\"Line uncommented successfully if it was commented!\")"
   ]
  },
  {
   "cell_type": "markdown",
   "metadata": {},
   "source": [
    "Creating the specification curve by concentratng on the effect of ```prop_women``` on the count outcome variable ```excess_sentences```, by always controlling for the following regressors: ```both_genders```, ```log_num_authors```, ```log_num_pages```, and ```jel_flag```."
   ]
  },
  {
   "cell_type": "code",
   "execution_count": null,
   "metadata": {},
   "outputs": [],
   "source": [
    "%%stata\n",
    "#delimit ;\n",
    "quietly specurve using \"readability_graph_specurve.yml\", cmd(ppmlhdfe)\n",
    "        desc noci99 width(8) height(10) relativesize(0.4)\n",
    "        scale(0.7) title(\"Specification Curve Analsyis of Proportion of Women\");\n",
    "#delimit crs"
   ]
  },
  {
   "cell_type": "code",
   "execution_count": null,
   "metadata": {},
   "outputs": [],
   "source": [
    "# File name\n",
    "file_path = '../code/readability_graph_specurve.yml'\n",
    "\n",
    "# Read, modify, and save the file\n",
    "with open(file_path, 'r') as file:\n",
    "    lines = file.readlines()\n",
    "\n",
    "# Modify the target line\n",
    "modified_lines = []\n",
    "for line in lines:\n",
    "    if line.strip() == \"- Excess Sentences: excess_sentences\":\n",
    "        modified_lines.append(f\"#     {line}\")  # Comment out the line\n",
    "    else:\n",
    "        modified_lines.append(line)\n",
    "\n",
    "# Write the modified content back to the file\n",
    "with open(file_path, 'w') as file:\n",
    "    file.writelines(modified_lines)\n",
    "\n",
    "print(\"Line commented successfully!\")"
   ]
  },
  {
   "cell_type": "code",
   "execution_count": null,
   "metadata": {},
   "outputs": [],
   "source": [
    "# File name\n",
    "file_path = '../code/readability_graph_specurve.yml'\n",
    "\n",
    "# Read, modify, and save the file\n",
    "with open(file_path, 'r') as file:\n",
    "    lines = file.readlines()\n",
    "\n",
    "# Modify the target line\n",
    "modified_lines = []\n",
    "for line in lines:\n",
    "    stripped_line = line.strip()\n",
    "    if stripped_line.startswith(\"#     - log(F-K grade): log_flesch_kincaid_grade_level\"):\n",
    "        # Uncomment the line\n",
    "        modified_lines.append(line.replace(\"#     -\", \"-\"))  # Replace `#-` with `-`\n",
    "    else:\n",
    "        modified_lines.append(line)\n",
    "\n",
    "# Write the modified content back to the file\n",
    "with open(file_path, 'w') as file:\n",
    "    file.writelines(modified_lines)\n",
    "\n",
    "print(\"Line uncommented successfully if it was commented!\")"
   ]
  },
  {
   "cell_type": "markdown",
   "metadata": {},
   "source": [
    "## Marginal Effects"
   ]
  },
  {
   "cell_type": "code",
   "execution_count": null,
   "metadata": {},
   "outputs": [],
   "source": [
    "%%stata -qui\n",
    "\n",
    "use \"../data/data\", clear\n",
    "\n",
    "quietly tabulate year, generate(y_)\n",
    "quietly tabulate cluster, generate(c_)\n",
    "\n",
    "local journals ecm jpe qje res  //AER based category\n",
    "\n",
    "local jel_imp a_imp b_imp c_imp e_imp f_imp g_imp h_imp i_imp j_imp k_imp /// \n",
    "\t\tl_imp m_imp n_imp o_imp p_imp q_imp r_imp y_imp z_imp // D JEL based case\n",
    "\n",
    "summarize num_sentences, detail\n",
    "local cutoff_sentences = r(p5)\n",
    "gen int excess_sentences = num_sentences - `cutoff_sentences'\n",
    "replace excess_sentences = 0 if excess_sentences < 0"
   ]
  },
  {
   "cell_type": "code",
   "execution_count": null,
   "metadata": {},
   "outputs": [],
   "source": [
    "%%stata -qui\n",
    "#delimit ;\n",
    "vl set log_num_authors log_num_pages both_genders prop_women\n",
    "       `journals' `jel_imp' y_2-y_20  c_2-c_215 jel_flag\n",
    "       , dummy clear nonotes;\n",
    "vl create fe = vldummy - (both_genders jel_flag);\n",
    "vl substitute mfe = i.fe;\n",
    "vl create controls = vlcontinuous - (prop_women);\n",
    "vl create controls_dummy = (both_genders jel_flag);\n",
    "vl substitute baseline = i.controls_dummy controls;\n",
    "vl rebuild;\n",
    "#delimit cr"
   ]
  },
  {
   "cell_type": "code",
   "execution_count": null,
   "metadata": {},
   "outputs": [],
   "source": [
    "%%stata -qui\n",
    "#delimit ;\n",
    "ppmlhdfe excess_sentences prop_women $baseline,\n",
    "                          absorb($mfe)  vce(cluster cluster) d;\n",
    "#delimit cr"
   ]
  },
  {
   "cell_type": "code",
   "execution_count": null,
   "metadata": {},
   "outputs": [],
   "source": [
    "%%stata\n",
    "estimates table, keep(log_num_authors log_num_pages 1.both_genders prop_women) b(%5.4f) star varwidth(25)"
   ]
  },
  {
   "cell_type": "code",
   "execution_count": null,
   "metadata": {},
   "outputs": [],
   "source": [
    "%%stata -qui\n",
    "#delimit ;\n",
    "margins, dydx(prop_women) at(prop_women=(0(0.25)1)\n",
    "                             log_num_pages=3.463461\n",
    "                             log_num_authors=0.60205999132 (base) _factor);\n",
    "#delimit cr"
   ]
  },
  {
   "cell_type": "code",
   "execution_count": null,
   "metadata": {},
   "outputs": [],
   "source": [
    "%%stata\n",
    "set scheme gg_piyg\n",
    "marginsplot, yline(0) recast(line) title(\"Marginal Effects of Proportion of Women\")"
   ]
  }
 ],
 "metadata": {
  "kernelspec": {
   "display_name": "Python 3 (ipykernel)",
   "language": "python",
   "name": "python3"
  },
  "language_info": {
   "codemirror_mode": {
    "name": "ipython",
    "version": 3
   },
   "file_extension": ".py",
   "mimetype": "text/x-python",
   "name": "python",
   "nbconvert_exporter": "python",
   "pygments_lexer": "ipython3",
   "version": "3.11.0"
  }
 },
 "nbformat": 4,
 "nbformat_minor": 4
}
