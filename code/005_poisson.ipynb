{
 "cells": [
  {
   "cell_type": "code",
   "execution_count": null,
   "metadata": {},
   "outputs": [],
   "source": [
    "%%capture\n",
    "import stata_setup, os\n",
    "if os.name == 'nt':\n",
    "    stata_setup.config('C:/Program Files/Stata17/','mp')\n",
    "else:\n",
    "    stata_setup.config('/usr/local/stata17','mp')"
   ]
  },
  {
   "cell_type": "code",
   "execution_count": null,
   "metadata": {},
   "outputs": [],
   "source": [
    "%%stata -qui\n",
    "\n",
    "use \"../data/data\", clear\n",
    "rename log_flesch_kincaid_grade_level FKG\n",
    "quietly tabulate year, generate(y_)\n",
    "quietly tabulate cluster, generate(c_)\n",
    "\n",
    "local journals  ecm jpe qje res  //AER based category\n",
    "\n",
    "local jel_imp a_imp b_imp c_imp  e_imp f_imp g_imp h_imp i_imp j_imp k_imp /// \n",
    "\t\tl_imp m_imp n_imp o_imp p_imp q_imp r_imp y_imp z_imp // D JEL based case"
   ]
  },
  {
   "cell_type": "markdown",
   "metadata": {
    "tags": []
   },
   "source": [
    "## Poisson Regression"
   ]
  },
  {
   "cell_type": "markdown",
   "metadata": {},
   "source": [
    "We are interested in modelling the number of sentences in an abstract in excess of 3 (5\\% of articles have at most 3 sentences), i.e., our model is\n",
    "$$\n",
    "\\mathbb{E}[\\texttt{Excess Sentences}|\\texttt{log(Number authors)},\\texttt{log(Number pages)},\\texttt{Both genders},\\texttt{Proportion women}]\\\\\\\n",
    "= \\exp{\\left(\\beta_1\\log(\\text{Number authors})+\\beta_2\\log(\\text{Number pages})+\\beta_3\\texttt{Both genders}+\\theta\\texttt{Proportion women}\\right.}\\\\\\\n",
    "\\left.+\\texttt{Journals}+\\texttt{JEL codes}+\\texttt{Cluster}+\\texttt{Years}+\\texttt{JEL flag}+\\beta_{272}\\right)\n",
    "$$"
   ]
  },
  {
   "cell_type": "code",
   "execution_count": null,
   "metadata": {},
   "outputs": [],
   "source": [
    "%%stata -qui\n",
    "summarize num_sentences, detail\n",
    "local cutoff_sentences = r(p5)\n",
    "gen int excess_sentences = num_sentences - `cutoff_sentences'\n",
    "replace excess_sentences = 0 if excess_sentences < 0"
   ]
  },
  {
   "cell_type": "code",
   "execution_count": null,
   "metadata": {},
   "outputs": [],
   "source": [
    "%%stata\n",
    "set scheme gg_jet\n",
    "histogram excess_sentences, discrete freq width(1) xtitle(\"Number of Sentences in Excess of 3\")"
   ]
  },
  {
   "cell_type": "code",
   "execution_count": null,
   "metadata": {},
   "outputs": [],
   "source": [
    "%%stata -qui\n",
    "#delimit ;\n",
    "poisson excess_sentences log_num_authors log_num_pages both_genders prop_women\n",
    "\t\t\t          `journals' `jel_imp' y_2-y_20  c_2-c_215  jel_flag, vce(cluster cluster);\n",
    "#delimit cr"
   ]
  },
  {
   "cell_type": "code",
   "execution_count": null,
   "metadata": {},
   "outputs": [],
   "source": [
    "%%stata\n",
    "estimates table, keep(log_num_authors log_num_pages both_genders prop_women jel_flag) b(%5.4f) star varwidth(50) varlabel"
   ]
  },
  {
   "cell_type": "code",
   "execution_count": null,
   "metadata": {},
   "outputs": [],
   "source": [
    "%%stata\n",
    "nlcom (_b[log_num_pages]) (100*_b[prop_women]) (100*(exp(_b[jel_flag])-1))"
   ]
  },
  {
   "cell_type": "markdown",
   "metadata": {},
   "source": [
    "Other factors equal:\n",
    "* The _elasticity_ of the expected number of sentences in excess of 3 for an article's abstract with respect to the article's number of pages is 0.41.\n",
    "* If an article's authors are all women (```prop_women``` goes from 0 to 1), the abstract's expected number of sentences in excess of 3 increase by 4.16\\%.\n",
    "* The expected number of sentences in excess of 3 for an article's abstract is roughly 3.55\\% higher when the JEL is imputed ceteris paribus."
   ]
  },
  {
   "cell_type": "markdown",
   "metadata": {
    "jp-MarkdownHeadingCollapsed": true,
    "tags": []
   },
   "source": [
    "## High-Dimensional Fixed Effects"
   ]
  },
  {
   "cell_type": "code",
   "execution_count": null,
   "metadata": {},
   "outputs": [],
   "source": [
    "%%stata -qui\n",
    "egen journal1 = group(journal)\n",
    "#delimit ;\n",
    "ppmlhdfe excess_sentences log_num_authors log_num_pages both_genders prop_women,\n",
    "                          absorb(journal1 a_imp b_imp c_imp  e_imp f_imp g_imp h_imp\n",
    "                                i_imp j_imp k_imp l_imp m_imp n_imp o_imp p_imp q_imp r_imp y_imp z_imp\n",
    "                                year ib0.cluster jel_flag) vce(cluster cluster);\n",
    "#delimit cr"
   ]
  },
  {
   "cell_type": "code",
   "execution_count": null,
   "metadata": {},
   "outputs": [],
   "source": [
    "%%stata\n",
    "#delimit ;\n",
    "estimates table, keep(log_num_authors log_num_pages both_genders prop_women)\n",
    "                 b(%5.4f) star varwidth(50) varlabel;\n",
    "#delimit cr"
   ]
  },
  {
   "cell_type": "markdown",
   "metadata": {
    "jp-MarkdownHeadingCollapsed": true,
    "tags": []
   },
   "source": [
    "## Specification Curve Analysis"
   ]
  },
  {
   "cell_type": "markdown",
   "metadata": {},
   "source": [
    "Clearing the data set in memory, reloading, and creating the ```journal1``` variable"
   ]
  },
  {
   "cell_type": "code",
   "execution_count": null,
   "metadata": {},
   "outputs": [],
   "source": [
    "%%stata -qui\n",
    "\n",
    "clear all\n",
    "use \"../data/data\", clear\n",
    "egen journal1 = group(journal)\n",
    "\n",
    "summarize num_sentences, detail\n",
    "local cutoff_sentences = r(p5)\n",
    "gen int excess_sentences = num_sentences - `cutoff_sentences'\n",
    "replace excess_sentences = 0 if excess_sentences < 0"
   ]
  },
  {
   "cell_type": "markdown",
   "metadata": {},
   "source": [
    "Commenting out the ```- log(F-K grade): log_flesch_kincaid_grade_level``` line in the ```.yml``` file."
   ]
  },
  {
   "cell_type": "code",
   "execution_count": null,
   "metadata": {},
   "outputs": [],
   "source": [
    "import yaml\n",
    "\n",
    "# File name\n",
    "file_path = '../code/readability_graph_specurve.yml'\n",
    "\n",
    "# Read, modify, and save the file\n",
    "with open(file_path, 'r') as file:\n",
    "    lines = file.readlines()\n",
    "\n",
    "# Modify the target line\n",
    "modified_lines = []\n",
    "for line in lines:\n",
    "    if line.strip() == \"- log(F-K grade): log_flesch_kincaid_grade_level\":\n",
    "        modified_lines.append(f\"#     {line}\")  # Comment out the line\n",
    "    else:\n",
    "        modified_lines.append(line)\n",
    "\n",
    "# Write the modified content back to the file\n",
    "with open(file_path, 'w') as file:\n",
    "    file.writelines(modified_lines)\n",
    "\n",
    "print(\"Line commented successfully!\")"
   ]
  },
  {
   "cell_type": "code",
   "execution_count": null,
   "metadata": {},
   "outputs": [],
   "source": [
    "# File name\n",
    "file_path = '../code/readability_graph_specurve.yml'\n",
    "\n",
    "# Read, modify, and save the file\n",
    "with open(file_path, 'r') as file:\n",
    "    lines = file.readlines()\n",
    "\n",
    "# Modify the target line\n",
    "modified_lines = []\n",
    "for line in lines:\n",
    "    stripped_line = line.strip()\n",
    "    if stripped_line.startswith(\"#     - Excess Sentences: excess_sentences\"):\n",
    "        # Uncomment the line\n",
    "        modified_lines.append(line.replace(\"#     -\", \"-\"))  # Replace `#-` with `-`\n",
    "    else:\n",
    "        modified_lines.append(line)\n",
    "\n",
    "# Write the modified content back to the file\n",
    "with open(file_path, 'w') as file:\n",
    "    file.writelines(modified_lines)\n",
    "\n",
    "print(\"Line uncommented successfully if it was commented!\")"
   ]
  },
  {
   "cell_type": "markdown",
   "metadata": {},
   "source": [
    "Creating the specification curve by concentratng on the effect of ```prop_women``` on the count outcome variable ```excess_sentences```, by always controlling for the following regressors: ```both_genders```, ```log_num_authors```, ```log_num_pages```, and ```jel_flag```."
   ]
  },
  {
   "cell_type": "code",
   "execution_count": null,
   "metadata": {},
   "outputs": [],
   "source": [
    "%%stata\n",
    "#delimit ;\n",
    "quietly specurve using \"readability_graph_specurve.yml\", cmd(ppmlhdfe)\n",
    "        desc noci99 width(8) height(10) relativesize(0.4)\n",
    "        scale(0.7) title(\"Specification Curve Analsyis of Proportion of Women\");\n",
    "#delimit crs"
   ]
  },
  {
   "cell_type": "code",
   "execution_count": null,
   "metadata": {},
   "outputs": [],
   "source": [
    "# File name\n",
    "file_path = '../code/readability_graph_specurve.yml'\n",
    "\n",
    "# Read, modify, and save the file\n",
    "with open(file_path, 'r') as file:\n",
    "    lines = file.readlines()\n",
    "\n",
    "# Modify the target line\n",
    "modified_lines = []\n",
    "for line in lines:\n",
    "    if line.strip() == \"- Excess Sentences: excess_sentences\":\n",
    "        modified_lines.append(f\"#     {line}\")  # Comment out the line\n",
    "    else:\n",
    "        modified_lines.append(line)\n",
    "\n",
    "# Write the modified content back to the file\n",
    "with open(file_path, 'w') as file:\n",
    "    file.writelines(modified_lines)\n",
    "\n",
    "print(\"Line commented successfully!\")"
   ]
  },
  {
   "cell_type": "code",
   "execution_count": null,
   "metadata": {},
   "outputs": [],
   "source": [
    "# File name\n",
    "file_path = '../code/readability_graph_specurve.yml'\n",
    "\n",
    "# Read, modify, and save the file\n",
    "with open(file_path, 'r') as file:\n",
    "    lines = file.readlines()\n",
    "\n",
    "# Modify the target line\n",
    "modified_lines = []\n",
    "for line in lines:\n",
    "    stripped_line = line.strip()\n",
    "    if stripped_line.startswith(\"#     - log(F-K grade): log_flesch_kincaid_grade_level\"):\n",
    "        # Uncomment the line\n",
    "        modified_lines.append(line.replace(\"#     -\", \"-\"))  # Replace `#-` with `-`\n",
    "    else:\n",
    "        modified_lines.append(line)\n",
    "\n",
    "# Write the modified content back to the file\n",
    "with open(file_path, 'w') as file:\n",
    "    file.writelines(modified_lines)\n",
    "\n",
    "print(\"Line uncommented successfully if it was commented!\")"
   ]
  },
  {
   "cell_type": "markdown",
   "metadata": {},
   "source": [
    "## Marginal Effects"
   ]
  },
  {
   "cell_type": "code",
   "execution_count": null,
   "metadata": {},
   "outputs": [],
   "source": [
    "%%stata -qui\n",
    "\n",
    "use \"../data/data\", clear\n",
    "\n",
    "quietly tabulate year, generate(y_)\n",
    "quietly tabulate cluster, generate(c_)\n",
    "\n",
    "local journals ecm jpe qje res  //AER based category\n",
    "\n",
    "local jel_imp a_imp b_imp c_imp e_imp f_imp g_imp h_imp i_imp j_imp k_imp /// \n",
    "\t\tl_imp m_imp n_imp o_imp p_imp q_imp r_imp y_imp z_imp // D JEL based case\n",
    "\n",
    "summarize num_sentences, detail\n",
    "local cutoff_sentences = r(p5)\n",
    "gen int excess_sentences = num_sentences - `cutoff_sentences'\n",
    "replace excess_sentences = 0 if excess_sentences < 0"
   ]
  },
  {
   "cell_type": "code",
   "execution_count": null,
   "metadata": {},
   "outputs": [],
   "source": [
    "%%stata -qui\n",
    "#delimit ;\n",
    "vl set log_num_authors log_num_pages both_genders prop_women\n",
    "       `journals' `jel_imp' y_2-y_20  c_2-c_215 jel_flag\n",
    "       , dummy clear nonotes;\n",
    "vl create fe = vldummy - (both_genders jel_flag);\n",
    "vl substitute mfe = i.fe;\n",
    "vl create controls = vlcontinuous - (prop_women);\n",
    "vl create controls_dummy = (both_genders jel_flag);\n",
    "vl substitute baseline = i.controls_dummy controls;\n",
    "vl rebuild;\n",
    "#delimit cr"
   ]
  },
  {
   "cell_type": "code",
   "execution_count": null,
   "metadata": {},
   "outputs": [],
   "source": [
    "%%stata -qui\n",
    "#delimit ;\n",
    "ppmlhdfe excess_sentences prop_women $baseline,\n",
    "                          absorb($mfe)  vce(cluster cluster) d;\n",
    "#delimit cr"
   ]
  },
  {
   "cell_type": "code",
   "execution_count": null,
   "metadata": {},
   "outputs": [],
   "source": [
    "%%stata\n",
    "estimates table, keep(log_num_authors log_num_pages 1.both_genders prop_women) b(%5.4f) star varwidth(25)"
   ]
  },
  {
   "cell_type": "code",
   "execution_count": null,
   "metadata": {},
   "outputs": [],
   "source": [
    "%%stata -qui\n",
    "#delimit ;\n",
    "margins, dydx(prop_women) at(prop_women=(0(0.25)1)\n",
    "                             log_num_pages=3.463461\n",
    "                             log_num_authors=0.60205999132 (base) _factor);\n",
    "#delimit cr"
   ]
  },
  {
   "cell_type": "code",
   "execution_count": null,
   "metadata": {},
   "outputs": [],
   "source": [
    "%%stata\n",
    "set scheme gg_piyg\n",
    "marginsplot, yline(0) recast(line) title(\"Marginal Effects of Proportion of Women\")"
   ]
  }
 ],
 "metadata": {
  "kernelspec": {
   "display_name": "Python 3 (ipykernel)",
   "language": "python",
   "name": "python3"
  },
  "language_info": {
   "codemirror_mode": {
    "name": "ipython",
    "version": 3
   },
   "file_extension": ".py",
   "mimetype": "text/x-python",
   "name": "python",
   "nbconvert_exporter": "python",
   "pygments_lexer": "ipython3",
   "version": "3.12.3"
  }
 },
 "nbformat": 4,
 "nbformat_minor": 4
}
